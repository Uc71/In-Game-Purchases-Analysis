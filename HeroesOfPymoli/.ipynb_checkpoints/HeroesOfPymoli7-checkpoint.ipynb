{
 "cells": [
  {
   "cell_type": "markdown",
   "metadata": {},
   "source": [
    "### Note\n",
    "* Instructions have been included for each segment. You do not have to follow them exactly, but they are included to help you think through the steps."
   ]
  },
  {
   "cell_type": "code",
   "execution_count": 1,
   "metadata": {},
   "outputs": [],
   "source": [
    "# Dependencies and Setup\n",
    "import pandas as pd\n",
    "import numpy as np\n",
    "\n",
    "# File to Load (Remember to Change These)\n",
    "file_to_load = \"HeroesOfPymoli.csv\"\n",
    "\n",
    "# Read Purchasing File and store into Pandas data frame\n",
    "purchasedata_df = pd.read_csv(file_to_load)"
   ]
  },
  {
   "cell_type": "markdown",
   "metadata": {},
   "source": [
    "## Player Count"
   ]
  },
  {
   "cell_type": "markdown",
   "metadata": {},
   "source": [
    "* Display the total number of players\n"
   ]
  },
  {
   "cell_type": "code",
   "execution_count": 2,
   "metadata": {},
   "outputs": [
    {
     "data": {
      "text/plain": [
       "576"
      ]
     },
     "execution_count": 2,
     "metadata": {},
     "output_type": "execute_result"
    }
   ],
   "source": [
    "#\n",
    "totalplayers=purchasedata_df[\"SN\"].nunique()\n",
    "totalplayers"
   ]
  },
  {
   "cell_type": "markdown",
   "metadata": {},
   "source": [
    "## Purchasing Analysis (Total)"
   ]
  },
  {
   "cell_type": "markdown",
   "metadata": {},
   "source": [
    "* Run basic calculations to obtain number of unique items, average price, etc.\n",
    "\n",
    "\n",
    "* Create a summary data frame to hold the results\n",
    "\n",
    "\n",
    "* Optional: give the displayed data cleaner formatting\n",
    "\n",
    "\n",
    "* Display the summary data frame\n"
   ]
  },
  {
   "cell_type": "code",
   "execution_count": 3,
   "metadata": {
    "scrolled": true
   },
   "outputs": [
    {
     "data": {
      "text/html": [
       "<div>\n",
       "<style scoped>\n",
       "    .dataframe tbody tr th:only-of-type {\n",
       "        vertical-align: middle;\n",
       "    }\n",
       "\n",
       "    .dataframe tbody tr th {\n",
       "        vertical-align: top;\n",
       "    }\n",
       "\n",
       "    .dataframe thead th {\n",
       "        text-align: right;\n",
       "    }\n",
       "</style>\n",
       "<table border=\"1\" class=\"dataframe\">\n",
       "  <thead>\n",
       "    <tr style=\"text-align: right;\">\n",
       "      <th></th>\n",
       "      <th>Unique Items</th>\n",
       "      <th>$ Avg. Price</th>\n",
       "      <th>Total Purchases</th>\n",
       "      <th>$ Total Revenue</th>\n",
       "    </tr>\n",
       "  </thead>\n",
       "  <tbody>\n",
       "    <tr>\n",
       "      <th>0</th>\n",
       "      <td>179</td>\n",
       "      <td>3.05</td>\n",
       "      <td>780</td>\n",
       "      <td>2379.77</td>\n",
       "    </tr>\n",
       "  </tbody>\n",
       "</table>\n",
       "</div>"
      ],
      "text/plain": [
       "   Unique Items  $ Avg. Price  Total Purchases  $ Total Revenue\n",
       "0           179          3.05              780          2379.77"
      ]
     },
     "execution_count": 3,
     "metadata": {},
     "output_type": "execute_result"
    }
   ],
   "source": [
    "#\n",
    "uniqueitems=purchasedata_df[\"Item Name\"].nunique()\n",
    "avgprice=purchasedata_df[\"Price\"].mean()\n",
    "totalpurchases=purchasedata_df[\"Item Name\"].count()\n",
    "totalrevenue=purchasedata_df[\"Price\"].sum()\n",
    "summary_df=pd.DataFrame([{\"Unique Items\":uniqueitems,\"$ Avg. Price\":round(avgprice,2),\"Total Purchases\":totalpurchases,\"$ Total Revenue\":totalrevenue}])\n",
    "summary_df"
   ]
  },
  {
   "cell_type": "markdown",
   "metadata": {},
   "source": [
    "## Gender Demographics"
   ]
  },
  {
   "cell_type": "markdown",
   "metadata": {},
   "source": [
    "* Percentage and Count of Male Players\n",
    "\n",
    "\n",
    "* Percentage and Count of Female Players\n",
    "\n",
    "\n",
    "* Percentage and Count of Other / Non-Disclosed\n",
    "\n",
    "\n"
   ]
  },
  {
   "cell_type": "code",
   "execution_count": 4,
   "metadata": {
    "scrolled": true
   },
   "outputs": [
    {
     "data": {
      "text/html": [
       "<div>\n",
       "<style scoped>\n",
       "    .dataframe tbody tr th:only-of-type {\n",
       "        vertical-align: middle;\n",
       "    }\n",
       "\n",
       "    .dataframe tbody tr th {\n",
       "        vertical-align: top;\n",
       "    }\n",
       "\n",
       "    .dataframe thead th {\n",
       "        text-align: right;\n",
       "    }\n",
       "</style>\n",
       "<table border=\"1\" class=\"dataframe\">\n",
       "  <thead>\n",
       "    <tr style=\"text-align: right;\">\n",
       "      <th></th>\n",
       "      <th>Gender Counts</th>\n",
       "      <th>Gender Percentages</th>\n",
       "    </tr>\n",
       "  </thead>\n",
       "  <tbody>\n",
       "    <tr>\n",
       "      <th>Male</th>\n",
       "      <td>484</td>\n",
       "      <td>84.027778</td>\n",
       "    </tr>\n",
       "    <tr>\n",
       "      <th>Female</th>\n",
       "      <td>81</td>\n",
       "      <td>14.062500</td>\n",
       "    </tr>\n",
       "    <tr>\n",
       "      <th>Other / Non-Disclosed</th>\n",
       "      <td>11</td>\n",
       "      <td>1.909722</td>\n",
       "    </tr>\n",
       "  </tbody>\n",
       "</table>\n",
       "</div>"
      ],
      "text/plain": [
       "                       Gender Counts  Gender Percentages\n",
       "Male                             484           84.027778\n",
       "Female                            81           14.062500\n",
       "Other / Non-Disclosed             11            1.909722"
      ]
     },
     "execution_count": 4,
     "metadata": {},
     "output_type": "execute_result"
    }
   ],
   "source": [
    "#\n",
    "individuals_df=purchasedata_df.drop_duplicates(subset=\"SN\")\n",
    "count=individuals_df[\"Gender\"].value_counts()\n",
    "percentages=100*count/totalplayers\n",
    "demographics_df=pd.DataFrame({\"Gender Counts\":count,\"Gender Percentages\":percentages})\n",
    "demographics_df"
   ]
  },
  {
   "cell_type": "markdown",
   "metadata": {},
   "source": [
    "\n",
    "## Purchasing Analysis (Gender)"
   ]
  },
  {
   "cell_type": "markdown",
   "metadata": {},
   "source": [
    "* Run basic calculations to obtain purchase count, avg. purchase price, avg. purchase total per person etc. by gender\n",
    "\n",
    "\n",
    "\n",
    "\n",
    "* Create a summary data frame to hold the results\n",
    "\n",
    "\n",
    "* Optional: give the displayed data cleaner formatting\n",
    "\n",
    "\n",
    "* Display the summary data frame"
   ]
  },
  {
   "cell_type": "code",
   "execution_count": 5,
   "metadata": {},
   "outputs": [
    {
     "data": {
      "text/html": [
       "<div>\n",
       "<style scoped>\n",
       "    .dataframe tbody tr th:only-of-type {\n",
       "        vertical-align: middle;\n",
       "    }\n",
       "\n",
       "    .dataframe tbody tr th {\n",
       "        vertical-align: top;\n",
       "    }\n",
       "\n",
       "    .dataframe thead th {\n",
       "        text-align: right;\n",
       "    }\n",
       "</style>\n",
       "<table border=\"1\" class=\"dataframe\">\n",
       "  <thead>\n",
       "    <tr style=\"text-align: right;\">\n",
       "      <th></th>\n",
       "      <th>Purchase Count</th>\n",
       "      <th>$ Average Purchase Price</th>\n",
       "      <th>$ Total Purchase Value</th>\n",
       "      <th>$ Average Purchase Price/Person</th>\n",
       "    </tr>\n",
       "    <tr>\n",
       "      <th>Gender</th>\n",
       "      <th></th>\n",
       "      <th></th>\n",
       "      <th></th>\n",
       "      <th></th>\n",
       "    </tr>\n",
       "  </thead>\n",
       "  <tbody>\n",
       "    <tr>\n",
       "      <th>Female</th>\n",
       "      <td>113</td>\n",
       "      <td>3.20</td>\n",
       "      <td>361.94</td>\n",
       "      <td>4.47</td>\n",
       "    </tr>\n",
       "    <tr>\n",
       "      <th>Male</th>\n",
       "      <td>652</td>\n",
       "      <td>3.02</td>\n",
       "      <td>1967.64</td>\n",
       "      <td>4.07</td>\n",
       "    </tr>\n",
       "    <tr>\n",
       "      <th>Other / Non-Disclosed</th>\n",
       "      <td>15</td>\n",
       "      <td>3.35</td>\n",
       "      <td>50.19</td>\n",
       "      <td>4.56</td>\n",
       "    </tr>\n",
       "  </tbody>\n",
       "</table>\n",
       "</div>"
      ],
      "text/plain": [
       "                       Purchase Count  $ Average Purchase Price  \\\n",
       "Gender                                                            \n",
       "Female                            113                      3.20   \n",
       "Male                              652                      3.02   \n",
       "Other / Non-Disclosed              15                      3.35   \n",
       "\n",
       "                       $ Total Purchase Value  $ Average Purchase Price/Person  \n",
       "Gender                                                                          \n",
       "Female                                 361.94                             4.47  \n",
       "Male                                  1967.64                             4.07  \n",
       "Other / Non-Disclosed                   50.19                             4.56  "
      ]
     },
     "execution_count": 5,
     "metadata": {},
     "output_type": "execute_result"
    }
   ],
   "source": [
    "#\n",
    "bygender_df=purchasedata_df.groupby([\"Gender\"])\n",
    "purchasecount=bygender_df[\"Price\"].count()\n",
    "purchasemean=bygender_df[\"Price\"].mean()\n",
    "purchasetotal=bygender_df[\"Price\"].sum()\n",
    "averagepurchase=purchasetotal/count\n",
    "purchaseanalysis_df=pd.DataFrame({\"Purchase Count\":purchasecount,\"$ Average Purchase Price\":round(purchasemean,2),\"$ Total Purchase Value\":purchasetotal,\"$ Average Purchase Price/Person\":round(averagepurchase,2)})\n",
    "purchaseanalysis_df"
   ]
  },
  {
   "cell_type": "markdown",
   "metadata": {},
   "source": [
    "## Age Demographics"
   ]
  },
  {
   "cell_type": "markdown",
   "metadata": {},
   "source": [
    "* Establish bins for ages\n",
    "\n",
    "\n",
    "* Categorize the existing players using the age bins. Hint: use pd.cut()\n",
    "\n",
    "\n",
    "* Calculate the numbers and percentages by age group\n",
    "\n",
    "\n",
    "* Create a summary data frame to hold the results\n",
    "\n",
    "\n",
    "* Optional: round the percentage column to two decimal points\n",
    "\n",
    "\n",
    "* Display Age Demographics Table\n"
   ]
  },
  {
   "cell_type": "code",
   "execution_count": 6,
   "metadata": {},
   "outputs": [
    {
     "name": "stderr",
     "output_type": "stream",
     "text": [
      "<ipython-input-6-3a38a542470e>:5: SettingWithCopyWarning: \n",
      "A value is trying to be set on a copy of a slice from a DataFrame.\n",
      "Try using .loc[row_indexer,col_indexer] = value instead\n",
      "\n",
      "See the caveats in the documentation: https://pandas.pydata.org/pandas-docs/stable/user_guide/indexing.html#returning-a-view-versus-a-copy\n",
      "  age_df[\"Age Ranges\"]=pd.cut(age_df[\"Age\"],bins,labels=groupnames,include_lowest=True)\n"
     ]
    },
    {
     "data": {
      "text/html": [
       "<div>\n",
       "<style scoped>\n",
       "    .dataframe tbody tr th:only-of-type {\n",
       "        vertical-align: middle;\n",
       "    }\n",
       "\n",
       "    .dataframe tbody tr th {\n",
       "        vertical-align: top;\n",
       "    }\n",
       "\n",
       "    .dataframe thead th {\n",
       "        text-align: right;\n",
       "    }\n",
       "</style>\n",
       "<table border=\"1\" class=\"dataframe\">\n",
       "  <thead>\n",
       "    <tr style=\"text-align: right;\">\n",
       "      <th></th>\n",
       "      <th>Age Range Counts</th>\n",
       "      <th>Age Range Percentages</th>\n",
       "    </tr>\n",
       "    <tr>\n",
       "      <th>Age Ranges</th>\n",
       "      <th></th>\n",
       "      <th></th>\n",
       "    </tr>\n",
       "  </thead>\n",
       "  <tbody>\n",
       "    <tr>\n",
       "      <th>Age=&lt;9</th>\n",
       "      <td>17</td>\n",
       "      <td>2.951389</td>\n",
       "    </tr>\n",
       "    <tr>\n",
       "      <th>10=&lt;Age=&lt;13</th>\n",
       "      <td>20</td>\n",
       "      <td>3.472222</td>\n",
       "    </tr>\n",
       "    <tr>\n",
       "      <th>14=&lt;Age=&lt;17</th>\n",
       "      <td>71</td>\n",
       "      <td>12.326389</td>\n",
       "    </tr>\n",
       "    <tr>\n",
       "      <th>18=&lt;Age=&lt;21</th>\n",
       "      <td>150</td>\n",
       "      <td>26.041667</td>\n",
       "    </tr>\n",
       "    <tr>\n",
       "      <th>22=&lt;Age=&lt;25</th>\n",
       "      <td>189</td>\n",
       "      <td>32.812500</td>\n",
       "    </tr>\n",
       "    <tr>\n",
       "      <th>26=&lt;Age=&lt;29</th>\n",
       "      <td>34</td>\n",
       "      <td>5.902778</td>\n",
       "    </tr>\n",
       "    <tr>\n",
       "      <th>30=&lt;Age=&lt;33</th>\n",
       "      <td>45</td>\n",
       "      <td>7.812500</td>\n",
       "    </tr>\n",
       "    <tr>\n",
       "      <th>34=&lt;Age=&lt;37</th>\n",
       "      <td>27</td>\n",
       "      <td>4.687500</td>\n",
       "    </tr>\n",
       "    <tr>\n",
       "      <th>38=&lt;Age=&lt;41</th>\n",
       "      <td>18</td>\n",
       "      <td>3.125000</td>\n",
       "    </tr>\n",
       "    <tr>\n",
       "      <th>42=&lt;Age=&lt;45</th>\n",
       "      <td>5</td>\n",
       "      <td>0.868056</td>\n",
       "    </tr>\n",
       "  </tbody>\n",
       "</table>\n",
       "</div>"
      ],
      "text/plain": [
       "             Age Range Counts  Age Range Percentages\n",
       "Age Ranges                                          \n",
       "Age=<9                     17               2.951389\n",
       "10=<Age=<13                20               3.472222\n",
       "14=<Age=<17                71              12.326389\n",
       "18=<Age=<21               150              26.041667\n",
       "22=<Age=<25               189              32.812500\n",
       "26=<Age=<29                34               5.902778\n",
       "30=<Age=<33                45               7.812500\n",
       "34=<Age=<37                27               4.687500\n",
       "38=<Age=<41                18               3.125000\n",
       "42=<Age=<45                 5               0.868056"
      ]
     },
     "execution_count": 6,
     "metadata": {},
     "output_type": "execute_result"
    }
   ],
   "source": [
    "#\n",
    "bins=[0,9.9,13.9,17.9,21.9,25.9,29.9,33.9,37.9,41.9,45.9]\n",
    "groupnames=[\"Age=<9\",\"10=<Age=<13\",\"14=<Age=<17\",\"18=<Age=<21\",\"22=<Age=<25\",\"26=<Age=<29\",\"30=<Age=<33\",\"34=<Age=<37\",\"38=<Age=<41\",\"42=<Age=<45\"]\n",
    "age_df=individuals_df\n",
    "age_df[\"Age Ranges\"]=pd.cut(age_df[\"Age\"],bins,labels=groupnames,include_lowest=True)\n",
    "binned_df=age_df.groupby(\"Age Ranges\")\n",
    "agecount=binned_df[\"Purchase ID\"].count()\n",
    "agepercentage=100*agecount/totalplayers\n",
    "agedemographics_df=pd.DataFrame({\"Age Range Counts\":agecount,\"Age Range Percentages\":agepercentage})\n",
    "agedemographics_df"
   ]
  },
  {
   "cell_type": "markdown",
   "metadata": {},
   "source": [
    "## Purchasing Analysis (Age)"
   ]
  },
  {
   "cell_type": "markdown",
   "metadata": {},
   "source": [
    "* Bin the purchase_data data frame by age\n",
    "\n",
    "\n",
    "* Run basic calculations to obtain purchase count, avg. purchase price, avg. purchase total per person etc. in the table below\n",
    "\n",
    "\n",
    "* Create a summary data frame to hold the results\n",
    "\n",
    "\n",
    "* Optional: give the displayed data cleaner formatting\n",
    "\n",
    "\n",
    "* Display the summary data frame"
   ]
  },
  {
   "cell_type": "code",
   "execution_count": 7,
   "metadata": {},
   "outputs": [
    {
     "data": {
      "text/html": [
       "<div>\n",
       "<style scoped>\n",
       "    .dataframe tbody tr th:only-of-type {\n",
       "        vertical-align: middle;\n",
       "    }\n",
       "\n",
       "    .dataframe tbody tr th {\n",
       "        vertical-align: top;\n",
       "    }\n",
       "\n",
       "    .dataframe thead th {\n",
       "        text-align: right;\n",
       "    }\n",
       "</style>\n",
       "<table border=\"1\" class=\"dataframe\">\n",
       "  <thead>\n",
       "    <tr style=\"text-align: right;\">\n",
       "      <th></th>\n",
       "      <th>Purchase Count</th>\n",
       "      <th>$ Average Purchase Price</th>\n",
       "      <th>$ Total Purchase Value</th>\n",
       "      <th>$ Average Purchase Price/Person</th>\n",
       "    </tr>\n",
       "    <tr>\n",
       "      <th>Age Ranges</th>\n",
       "      <th></th>\n",
       "      <th></th>\n",
       "      <th></th>\n",
       "      <th></th>\n",
       "    </tr>\n",
       "  </thead>\n",
       "  <tbody>\n",
       "    <tr>\n",
       "      <th>Age=&lt;9</th>\n",
       "      <td>23</td>\n",
       "      <td>3.35</td>\n",
       "      <td>77.13</td>\n",
       "      <td>4.54</td>\n",
       "    </tr>\n",
       "    <tr>\n",
       "      <th>10=&lt;Age=&lt;13</th>\n",
       "      <td>26</td>\n",
       "      <td>2.92</td>\n",
       "      <td>75.87</td>\n",
       "      <td>3.79</td>\n",
       "    </tr>\n",
       "    <tr>\n",
       "      <th>14=&lt;Age=&lt;17</th>\n",
       "      <td>89</td>\n",
       "      <td>3.01</td>\n",
       "      <td>267.60</td>\n",
       "      <td>3.77</td>\n",
       "    </tr>\n",
       "    <tr>\n",
       "      <th>18=&lt;Age=&lt;21</th>\n",
       "      <td>210</td>\n",
       "      <td>3.08</td>\n",
       "      <td>647.26</td>\n",
       "      <td>4.32</td>\n",
       "    </tr>\n",
       "    <tr>\n",
       "      <th>22=&lt;Age=&lt;25</th>\n",
       "      <td>263</td>\n",
       "      <td>3.05</td>\n",
       "      <td>800.90</td>\n",
       "      <td>4.24</td>\n",
       "    </tr>\n",
       "    <tr>\n",
       "      <th>26=&lt;Age=&lt;29</th>\n",
       "      <td>42</td>\n",
       "      <td>2.65</td>\n",
       "      <td>111.10</td>\n",
       "      <td>3.27</td>\n",
       "    </tr>\n",
       "    <tr>\n",
       "      <th>30=&lt;Age=&lt;33</th>\n",
       "      <td>64</td>\n",
       "      <td>3.00</td>\n",
       "      <td>191.87</td>\n",
       "      <td>4.26</td>\n",
       "    </tr>\n",
       "    <tr>\n",
       "      <th>34=&lt;Age=&lt;37</th>\n",
       "      <td>35</td>\n",
       "      <td>3.21</td>\n",
       "      <td>112.33</td>\n",
       "      <td>4.16</td>\n",
       "    </tr>\n",
       "    <tr>\n",
       "      <th>38=&lt;Age=&lt;41</th>\n",
       "      <td>23</td>\n",
       "      <td>3.51</td>\n",
       "      <td>80.72</td>\n",
       "      <td>4.48</td>\n",
       "    </tr>\n",
       "    <tr>\n",
       "      <th>42=&lt;Age=&lt;45</th>\n",
       "      <td>5</td>\n",
       "      <td>3.00</td>\n",
       "      <td>14.99</td>\n",
       "      <td>3.00</td>\n",
       "    </tr>\n",
       "  </tbody>\n",
       "</table>\n",
       "</div>"
      ],
      "text/plain": [
       "             Purchase Count  $ Average Purchase Price  $ Total Purchase Value  \\\n",
       "Age Ranges                                                                      \n",
       "Age=<9                   23                      3.35                   77.13   \n",
       "10=<Age=<13              26                      2.92                   75.87   \n",
       "14=<Age=<17              89                      3.01                  267.60   \n",
       "18=<Age=<21             210                      3.08                  647.26   \n",
       "22=<Age=<25             263                      3.05                  800.90   \n",
       "26=<Age=<29              42                      2.65                  111.10   \n",
       "30=<Age=<33              64                      3.00                  191.87   \n",
       "34=<Age=<37              35                      3.21                  112.33   \n",
       "38=<Age=<41              23                      3.51                   80.72   \n",
       "42=<Age=<45               5                      3.00                   14.99   \n",
       "\n",
       "             $ Average Purchase Price/Person  \n",
       "Age Ranges                                    \n",
       "Age=<9                                  4.54  \n",
       "10=<Age=<13                             3.79  \n",
       "14=<Age=<17                             3.77  \n",
       "18=<Age=<21                             4.32  \n",
       "22=<Age=<25                             4.24  \n",
       "26=<Age=<29                             3.27  \n",
       "30=<Age=<33                             4.26  \n",
       "34=<Age=<37                             4.16  \n",
       "38=<Age=<41                             4.48  \n",
       "42=<Age=<45                             3.00  "
      ]
     },
     "execution_count": 7,
     "metadata": {},
     "output_type": "execute_result"
    }
   ],
   "source": [
    "#\n",
    "analytic_df=purchasedata_df\n",
    "analytic_df[\"Age Ranges\"]=pd.cut(analytic_df[\"Age\"],bins,labels=groupnames,include_lowest=True)\n",
    "grouped_df=analytic_df.groupby(\"Age Ranges\")\n",
    "byagecount=grouped_df[\"Price\"].count()\n",
    "byagemean=grouped_df[\"Price\"].mean()\n",
    "byagesum=grouped_df[\"Price\"].sum()\n",
    "byageaverage=byagesum/agecount\n",
    "ageinvestigation_df=pd.DataFrame({\"Purchase Count\":byagecount,\"$ Average Purchase Price\":round(byagemean,2),\"$ Total Purchase Value\":byagesum,\"$ Average Purchase Price/Person\":round(byageaverage,2)})\n",
    "ageinvestigation_df"
   ]
  },
  {
   "cell_type": "markdown",
   "metadata": {},
   "source": [
    "## Top Spenders"
   ]
  },
  {
   "cell_type": "markdown",
   "metadata": {},
   "source": [
    "* Run basic calculations to obtain the results in the table below\n",
    "\n",
    "\n",
    "* Create a summary data frame to hold the results\n",
    "\n",
    "\n",
    "* Sort the total purchase value column in descending order\n",
    "\n",
    "\n",
    "* Optional: give the displayed data cleaner formatting\n",
    "\n",
    "\n",
    "* Display a preview of the summary data frame\n",
    "\n"
   ]
  },
  {
   "cell_type": "code",
   "execution_count": 8,
   "metadata": {},
   "outputs": [
    {
     "data": {
      "text/html": [
       "<div>\n",
       "<style scoped>\n",
       "    .dataframe tbody tr th:only-of-type {\n",
       "        vertical-align: middle;\n",
       "    }\n",
       "\n",
       "    .dataframe tbody tr th {\n",
       "        vertical-align: top;\n",
       "    }\n",
       "\n",
       "    .dataframe thead th {\n",
       "        text-align: right;\n",
       "    }\n",
       "</style>\n",
       "<table border=\"1\" class=\"dataframe\">\n",
       "  <thead>\n",
       "    <tr style=\"text-align: right;\">\n",
       "      <th></th>\n",
       "      <th>Purchase Count</th>\n",
       "      <th>$ Average Purchase Price</th>\n",
       "      <th>$ Total Purchase Value</th>\n",
       "    </tr>\n",
       "    <tr>\n",
       "      <th>SN</th>\n",
       "      <th></th>\n",
       "      <th></th>\n",
       "      <th></th>\n",
       "    </tr>\n",
       "  </thead>\n",
       "  <tbody>\n",
       "    <tr>\n",
       "      <th>Lisosia93</th>\n",
       "      <td>5</td>\n",
       "      <td>3.79</td>\n",
       "      <td>18.96</td>\n",
       "    </tr>\n",
       "    <tr>\n",
       "      <th>Idastidru52</th>\n",
       "      <td>4</td>\n",
       "      <td>3.86</td>\n",
       "      <td>15.45</td>\n",
       "    </tr>\n",
       "    <tr>\n",
       "      <th>Chamjask73</th>\n",
       "      <td>3</td>\n",
       "      <td>4.61</td>\n",
       "      <td>13.83</td>\n",
       "    </tr>\n",
       "    <tr>\n",
       "      <th>Iral74</th>\n",
       "      <td>4</td>\n",
       "      <td>3.40</td>\n",
       "      <td>13.62</td>\n",
       "    </tr>\n",
       "    <tr>\n",
       "      <th>Iskadarya95</th>\n",
       "      <td>3</td>\n",
       "      <td>4.37</td>\n",
       "      <td>13.10</td>\n",
       "    </tr>\n",
       "  </tbody>\n",
       "</table>\n",
       "</div>"
      ],
      "text/plain": [
       "             Purchase Count  $ Average Purchase Price  $ Total Purchase Value\n",
       "SN                                                                           \n",
       "Lisosia93                 5                      3.79                   18.96\n",
       "Idastidru52               4                      3.86                   15.45\n",
       "Chamjask73                3                      4.61                   13.83\n",
       "Iral74                    4                      3.40                   13.62\n",
       "Iskadarya95               3                      4.37                   13.10"
      ]
     },
     "execution_count": 8,
     "metadata": {},
     "output_type": "execute_result"
    }
   ],
   "source": [
    "#\n",
    "topspenders_df=purchasedata_df.groupby(\"SN\")\n",
    "spendcount=topspenders_df[\"Price\"].count()\n",
    "spendaverage=topspenders_df[\"Price\"].sum()/spendcount\n",
    "spendsum=topspenders_df[\"Price\"].sum()\n",
    "topspendtable_df=pd.DataFrame({\"Purchase Count\":spendcount,\"$ Average Purchase Price\":round(spendaverage,2),\"$ Total Purchase Value\":spendsum})\n",
    "topspendtable_df.nlargest(5,[\"$ Total Purchase Value\"])"
   ]
  },
  {
   "cell_type": "markdown",
   "metadata": {},
   "source": [
    "## Most Popular Items"
   ]
  },
  {
   "cell_type": "markdown",
   "metadata": {},
   "source": [
    "* Retrieve the Item ID, Item Name, and Item Price columns\n",
    "\n",
    "\n",
    "* Group by Item ID and Item Name. Perform calculations to obtain purchase count, average item price, and total purchase value\n",
    "\n",
    "\n",
    "* Create a summary data frame to hold the results\n",
    "\n",
    "\n",
    "* Sort the purchase count column in descending order\n",
    "\n",
    "\n",
    "* Optional: give the displayed data cleaner formatting\n",
    "\n",
    "\n",
    "* Display a preview of the summary data frame\n",
    "\n"
   ]
  },
  {
   "cell_type": "code",
   "execution_count": 95,
   "metadata": {},
   "outputs": [
    {
     "data": {
      "text/html": [
       "<div>\n",
       "<style scoped>\n",
       "    .dataframe tbody tr th:only-of-type {\n",
       "        vertical-align: middle;\n",
       "    }\n",
       "\n",
       "    .dataframe tbody tr th {\n",
       "        vertical-align: top;\n",
       "    }\n",
       "\n",
       "    .dataframe thead th {\n",
       "        text-align: right;\n",
       "    }\n",
       "</style>\n",
       "<table border=\"1\" class=\"dataframe\">\n",
       "  <thead>\n",
       "    <tr style=\"text-align: right;\">\n",
       "      <th></th>\n",
       "      <th></th>\n",
       "      <th>Price</th>\n",
       "    </tr>\n",
       "    <tr>\n",
       "      <th>Item ID</th>\n",
       "      <th>Item Name</th>\n",
       "      <th></th>\n",
       "    </tr>\n",
       "  </thead>\n",
       "  <tbody>\n",
       "    <tr>\n",
       "      <th>0</th>\n",
       "      <th>Splinter</th>\n",
       "      <td>5.12</td>\n",
       "    </tr>\n",
       "    <tr>\n",
       "      <th>1</th>\n",
       "      <th>Crucifer</th>\n",
       "      <td>11.77</td>\n",
       "    </tr>\n",
       "    <tr>\n",
       "      <th>2</th>\n",
       "      <th>Verdict</th>\n",
       "      <td>14.88</td>\n",
       "    </tr>\n",
       "    <tr>\n",
       "      <th>3</th>\n",
       "      <th>Phantomlight</th>\n",
       "      <td>14.94</td>\n",
       "    </tr>\n",
       "    <tr>\n",
       "      <th>4</th>\n",
       "      <th>Bloodlord's Fetish</th>\n",
       "      <td>8.50</td>\n",
       "    </tr>\n",
       "    <tr>\n",
       "      <th>...</th>\n",
       "      <th>...</th>\n",
       "      <td>...</td>\n",
       "    </tr>\n",
       "    <tr>\n",
       "      <th>178</th>\n",
       "      <th>Oathbreaker, Last Hope of the Breaking Storm</th>\n",
       "      <td>50.76</td>\n",
       "    </tr>\n",
       "    <tr>\n",
       "      <th>179</th>\n",
       "      <th>Wolf, Promise of the Moonwalker</th>\n",
       "      <td>26.88</td>\n",
       "    </tr>\n",
       "    <tr>\n",
       "      <th>181</th>\n",
       "      <th>Reaper's Toll</th>\n",
       "      <td>8.30</td>\n",
       "    </tr>\n",
       "    <tr>\n",
       "      <th>182</th>\n",
       "      <th>Toothpick</th>\n",
       "      <td>12.09</td>\n",
       "    </tr>\n",
       "    <tr>\n",
       "      <th>183</th>\n",
       "      <th>Dragon's Greatsword</th>\n",
       "      <td>3.27</td>\n",
       "    </tr>\n",
       "  </tbody>\n",
       "</table>\n",
       "<p>179 rows × 1 columns</p>\n",
       "</div>"
      ],
      "text/plain": [
       "                                                      Price\n",
       "Item ID Item Name                                          \n",
       "0       Splinter                                       5.12\n",
       "1       Crucifer                                      11.77\n",
       "2       Verdict                                       14.88\n",
       "3       Phantomlight                                  14.94\n",
       "4       Bloodlord's Fetish                             8.50\n",
       "...                                                     ...\n",
       "178     Oathbreaker, Last Hope of the Breaking Storm  50.76\n",
       "179     Wolf, Promise of the Moonwalker               26.88\n",
       "181     Reaper's Toll                                  8.30\n",
       "182     Toothpick                                     12.09\n",
       "183     Dragon's Greatsword                            3.27\n",
       "\n",
       "[179 rows x 1 columns]"
      ]
     },
     "execution_count": 95,
     "metadata": {},
     "output_type": "execute_result"
    }
   ],
   "source": [
    "last=purchasedata_df.groupby([\"Item ID\",\"Item Name\"])\n",
    "last.sum()"
   ]
  },
  {
   "cell_type": "markdown",
   "metadata": {},
   "source": [
    "## Most Profitable Items"
   ]
  },
  {
   "cell_type": "markdown",
   "metadata": {},
   "source": [
    "* Sort the above table by total purchase value in descending order\n",
    "\n",
    "\n",
    "* Optional: give the displayed data cleaner formatting\n",
    "\n",
    "\n",
    "* Display a preview of the data frame\n",
    "\n"
   ]
  },
  {
   "cell_type": "code",
   "execution_count": null,
   "metadata": {
    "scrolled": true
   },
   "outputs": [],
   "source": []
  }
 ],
 "metadata": {
  "anaconda-cloud": {},
  "kernel_info": {
   "name": "python3"
  },
  "kernelspec": {
   "display_name": "Python 3",
   "language": "python",
   "name": "python3"
  },
  "language_info": {
   "codemirror_mode": {
    "name": "ipython",
    "version": 3
   },
   "file_extension": ".py",
   "mimetype": "text/x-python",
   "name": "python",
   "nbconvert_exporter": "python",
   "pygments_lexer": "ipython3",
   "version": "3.8.3"
  },
  "latex_envs": {
   "LaTeX_envs_menu_present": true,
   "autoclose": false,
   "autocomplete": true,
   "bibliofile": "biblio.bib",
   "cite_by": "apalike",
   "current_citInitial": 1,
   "eqLabelWithNumbers": true,
   "eqNumInitial": 1,
   "hotkeys": {
    "equation": "Ctrl-E",
    "itemize": "Ctrl-I"
   },
   "labels_anchors": false,
   "latex_user_defs": false,
   "report_style_numbering": false,
   "user_envs_cfg": false
  },
  "nteract": {
   "version": "0.2.0"
  }
 },
 "nbformat": 4,
 "nbformat_minor": 2
}
